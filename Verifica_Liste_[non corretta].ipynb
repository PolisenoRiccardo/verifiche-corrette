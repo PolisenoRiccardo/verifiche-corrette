{
  "nbformat": 4,
  "nbformat_minor": 0,
  "metadata": {
    "colab": {
      "provenance": [],
      "collapsed_sections": []
    },
    "kernelspec": {
      "name": "python3",
      "display_name": "Python 3"
    },
    "language_info": {
      "name": "python"
    }
  },
  "cells": [
    {
      "cell_type": "markdown",
      "source": [
        "**Esercizio 1**"
      ],
      "metadata": {
        "id": "ofnBVGnsafBo"
      }
    },
    {
      "cell_type": "markdown",
      "source": [
        "Caricare in una opportuna struttura dati i cognomi degli studenti della 3E e scrivere il codice Python necessario per rispondere alle seguenti richieste:"
      ],
      "metadata": {
        "id": "zB8OPyTIanTu"
      }
    },
    {
      "cell_type": "code",
      "source": [
        "classe = [\"Avasiloae\", \"Bernasconi\", \"Cottone\", \"D'Arienzo\", \"Dipace\", \"Lotorto\", \"Geremicca\", \"Fontana\", \"Papes\", \"El Allami\", \"Leone\", \"Finessi\", \"Poliseno\", \"Muhammad\", \"Neri\", \"Milella\"]\n",
        "classe.sort()\n",
        "print(classe)"
      ],
      "metadata": {
        "colab": {
          "base_uri": "https://localhost:8080/"
        },
        "id": "QRwhPXLccdam",
        "outputId": "cf3e885a-ed13-4a22-cc4a-b18ab0c6d1cd"
      },
      "execution_count": null,
      "outputs": [
        {
          "output_type": "stream",
          "name": "stdout",
          "text": [
            "['Avasiloae', 'Bernasconi', 'Cottone', \"D'Arienzo\", 'Dipace', 'El Allami', 'Finessi', 'Fontana', 'Geremicca', 'Leone', 'Lotorto', 'Milella', 'Muhammad', 'Neri', 'Papes', 'Poliseno']\n"
          ]
        }
      ]
    },
    {
      "cell_type": "markdown",
      "source": [
        "1. Visualizzare lo studente che si trova al numero 10 dell'elenco"
      ],
      "metadata": {
        "id": "WbaRXwSRa3KO"
      }
    },
    {
      "cell_type": "code",
      "execution_count": null,
      "metadata": {
        "colab": {
          "base_uri": "https://localhost:8080/"
        },
        "id": "f4t4cnlyafBo",
        "outputId": "3d1396a3-2444-4715-83d5-f2a1b130be71"
      },
      "outputs": [
        {
          "output_type": "stream",
          "name": "stdout",
          "text": [
            "Leone\n"
          ]
        }
      ],
      "source": [
        "print(classe[9])"
      ]
    },
    {
      "cell_type": "markdown",
      "source": [
        "2. Visualizzare i primi 10 studenti"
      ],
      "metadata": {
        "id": "dWW5greyafJo"
      }
    },
    {
      "cell_type": "code",
      "execution_count": null,
      "metadata": {
        "colab": {
          "base_uri": "https://localhost:8080/"
        },
        "id": "2cLDDVMJafJo",
        "outputId": "f8e132fd-abe9-4236-8180-f761eae8aa08"
      },
      "outputs": [
        {
          "output_type": "stream",
          "name": "stdout",
          "text": [
            "['Avasiloae', 'Bernasconi', 'Cottone', \"D'Arienzo\", 'Dipace', 'El Allami', 'Finessi', 'Fontana', 'Geremicca', 'Leone']\n"
          ]
        }
      ],
      "source": [
        "print(classe[0:10])"
      ]
    },
    {
      "cell_type": "markdown",
      "source": [
        "3. Visualizzare i 5 studenti centrali"
      ],
      "metadata": {
        "id": "nOsS56AhafiU"
      }
    },
    {
      "cell_type": "code",
      "execution_count": null,
      "metadata": {
        "colab": {
          "base_uri": "https://localhost:8080/"
        },
        "id": "dC0-hDgqafiV",
        "outputId": "e14868e2-6c3f-43bd-ab58-b268ea51ec16"
      },
      "outputs": [
        {
          "output_type": "stream",
          "name": "stdout",
          "text": [
            "['El Allami', 'Finessi', 'Fontana', 'Geremicca', 'Leone']\n"
          ]
        }
      ],
      "source": [
        "centrale = int(len(classe)/2)\n",
        "print(classe[centrale-3:centrale+2])"
      ]
    },
    {
      "cell_type": "markdown",
      "source": [
        "4. Il docente di informatica deve interrogare uno studente: visualizzare in modo casuale (tramite codice ovviamente..:) il cognome di uno studente"
      ],
      "metadata": {
        "id": "b1gIDMdDagO6"
      }
    },
    {
      "cell_type": "code",
      "execution_count": null,
      "metadata": {
        "colab": {
          "base_uri": "https://localhost:8080/"
        },
        "id": "Nf1rKEwRagO8",
        "outputId": "0d30c3a9-63df-4199-c25a-bd93901e7d77"
      },
      "outputs": [
        {
          "output_type": "stream",
          "name": "stdout",
          "text": [
            "Neri\n"
          ]
        }
      ],
      "source": [
        "import random\n",
        "print(classe[random.randint(0, len(classe)-1)])"
      ]
    },
    {
      "cell_type": "markdown",
      "source": [
        "5. Il docente di informatica deve interrogare tre studenti: visualizzare in modo casuale (tramite codice ovviamente...) il cognome di tre studenti. Fare in modo che il cognome non possa ripetersi."
      ],
      "metadata": {
        "id": "mioDl8NZagay"
      }
    },
    {
      "cell_type": "code",
      "execution_count": null,
      "metadata": {
        "colab": {
          "base_uri": "https://localhost:8080/"
        },
        "id": "gBhPZGEragaz",
        "outputId": "04cd47ed-dbdf-44c4-ccae-c1f3258f725a"
      },
      "outputs": [
        {
          "output_type": "stream",
          "name": "stdout",
          "text": [
            "Avasiloae\n",
            "Papes\n",
            "Geremicca\n"
          ]
        }
      ],
      "source": [
        "import random\n",
        "noninterrogati = classe.copy()\n",
        "for indice in range(3):\n",
        "  studente = random.randint(0, len(noninterrogati)-1)\n",
        "  if noninterrogati[studente] in noninterrogati:      \n",
        "    print(noninterrogati[studente])\n",
        "    noninterrogati.remove(noninterrogati[studente]) "
      ]
    },
    {
      "cell_type": "markdown",
      "source": [
        "6. Aggiungere in coda all'elenco un nuovo studente, Antonio Greco. Dopo l'inserimento, visualizzare il nuovo elenco di nominativi ordinato in ordine alfabetico."
      ],
      "metadata": {
        "id": "l1lX2ItjagkS"
      }
    },
    {
      "cell_type": "code",
      "execution_count": null,
      "metadata": {
        "colab": {
          "base_uri": "https://localhost:8080/"
        },
        "id": "C5klIubNagkT",
        "outputId": "c459a8ed-21a9-4694-a240-75e3b7481e98"
      },
      "outputs": [
        {
          "output_type": "stream",
          "name": "stdout",
          "text": [
            "['Avasiloae', 'Bernasconi', 'Cottone', \"D'Arienzo\", 'Dipace', 'El Allami', 'Finessi', 'Fontana', 'Geremicca', 'Greco', 'Leone', 'Lotorto', 'Milella', 'Muhammad', 'Neri', 'Papes', 'Poliseno']\n"
          ]
        }
      ],
      "source": [
        "classe.extend([\"Greco\"])\n",
        "classe.sort()\n",
        "print(classe)"
      ]
    },
    {
      "cell_type": "markdown",
      "source": [
        "**Esercizio 2**"
      ],
      "metadata": {
        "id": "eSIFhXINagrg"
      }
    },
    {
      "cell_type": "markdown",
      "source": [
        "1. Caricare una lista con 100 numeri casuali interi, compresi tra 0 e 30 (estremi inclusi)"
      ],
      "metadata": {
        "id": "NYZhsyGXbuwe"
      }
    },
    {
      "cell_type": "code",
      "execution_count": null,
      "metadata": {
        "colab": {
          "base_uri": "https://localhost:8080/"
        },
        "id": "UMckilfLagrh",
        "outputId": "9b45ee1f-3a62-47a5-9546-4e9a173551b2"
      },
      "outputs": [
        {
          "output_type": "stream",
          "name": "stdout",
          "text": [
            "[10, 9, 8, 30, 27, 28, 15, 22, 16, 23, 18, 12, 16, 1, 8, 12, 15, 25, 6, 23, 17, 24, 30, 16, 23, 26, 8, 9, 20, 22, 3, 7, 20, 15, 24, 0, 28, 20, 16, 16, 0, 19, 5, 3, 10, 20, 1, 1, 14, 15, 7, 4, 24, 25, 12, 1, 29, 10, 9, 24, 20, 13, 25, 7, 5, 17, 10, 5, 2, 25, 29, 9, 21, 22, 22, 30, 1, 13, 7, 13, 16, 1, 21, 26, 17, 8, 10, 28, 25, 29, 9, 9, 7, 15, 6, 15, 26, 10, 13, 19]\n"
          ]
        }
      ],
      "source": [
        "lista1 = [random.randint(0, 30) for indice in range(100)]\n",
        "print(lista1)"
      ]
    },
    {
      "cell_type": "markdown",
      "source": [
        "2. Caricare in una nuova lista solo i numeri dispari"
      ],
      "metadata": {
        "id": "kAQLXDHHagyK"
      }
    },
    {
      "cell_type": "code",
      "execution_count": null,
      "metadata": {
        "colab": {
          "base_uri": "https://localhost:8080/"
        },
        "id": "DDgKIksnagyL",
        "outputId": "67657294-ce6e-4802-a7f9-014c551a00e4"
      },
      "outputs": [
        {
          "output_type": "stream",
          "name": "stdout",
          "text": [
            "[9, 27, 15, 23, 1, 15, 25, 23, 17, 23, 9, 3, 7, 15, 19, 5, 3, 1, 1, 15, 7, 25, 1, 29, 9, 13, 25, 7, 5, 17, 5, 25, 29, 9, 21, 1, 13, 7, 13, 1, 21, 17, 25, 29, 9, 9, 7, 15, 15, 13, 19]\n"
          ]
        }
      ],
      "source": [
        "listadispari = []\n",
        "for indice in range(len(lista1)):\n",
        "  if lista1[indice] % 2 != 0:\n",
        "    listadispari.extend([lista1[indice]])\n",
        "print(listadispari)"
      ]
    },
    {
      "cell_type": "markdown",
      "source": [
        "3. Eliminare dalla seconda lista tutti i multipli di 3"
      ],
      "metadata": {
        "id": "qJ7aiUgQag7n"
      }
    },
    {
      "cell_type": "code",
      "execution_count": null,
      "metadata": {
        "colab": {
          "base_uri": "https://localhost:8080/"
        },
        "id": "p8tU8NIxag7n",
        "outputId": "9438e40e-f93d-4812-ad64-fee69e224bde"
      },
      "outputs": [
        {
          "output_type": "stream",
          "name": "stdout",
          "text": [
            "[0, 0, 0, 23, 1, 0, 25, 23, 17, 23, 0, 0, 7, 0, 19, 5, 0, 1, 1, 0, 7, 25, 1, 29, 0, 13, 25, 7, 5, 17, 5, 25, 29, 0, 0, 1, 13, 7, 13, 1, 0, 17, 25, 29, 0, 0, 7, 0, 0, 13, 19]\n",
            "[23, 1, 25, 23, 17, 23, 7, 19, 5, 0, 1, 1, 0, 7, 25, 1, 29, 0, 13, 25, 7, 5, 17, 5, 25, 29, 0, 0, 1, 13, 7, 13, 1, 0, 17, 25, 29, 0, 0, 7, 0, 0, 13, 19]\n"
          ]
        }
      ],
      "source": [
        "for numero in listadispari:\n",
        "  if numero % 3 == 0:\n",
        "    listadispari[listadispari.index(numero)] = 0\n",
        "for indice in range(listadispari.count(0)):\n",
        "  if listadispari[indice] == 0:\n",
        "    listadispari.remove(0)\n",
        "print(listadispari)"
      ]
    },
    {
      "cell_type": "markdown",
      "source": [
        "4. Caricare in una nuova lista tutti i numeri maggiori di 10 e minori di 20"
      ],
      "metadata": {
        "id": "qFrXD7StahE6"
      }
    },
    {
      "cell_type": "code",
      "execution_count": null,
      "metadata": {
        "colab": {
          "base_uri": "https://localhost:8080/"
        },
        "id": "LNPuoiLzahE7",
        "outputId": "3e7732d4-c941-42c1-b6f2-349123103e9c"
      },
      "outputs": [
        {
          "output_type": "stream",
          "name": "stdout",
          "text": [
            "[11, 12, 13, 14, 15, 16, 17, 18, 19]\n"
          ]
        }
      ],
      "source": [
        "lista2 =[indice+11 for indice in range(9)]\n",
        "print(lista2)"
      ]
    },
    {
      "cell_type": "markdown",
      "source": [
        "5. Moltiplicare per 10 tutti i numeri della lista precedente"
      ],
      "metadata": {
        "id": "4LEA5mIIahMD"
      }
    },
    {
      "cell_type": "code",
      "execution_count": null,
      "metadata": {
        "colab": {
          "base_uri": "https://localhost:8080/"
        },
        "id": "-Fo5nOxRahME",
        "outputId": "bffa2c1d-a936-4efe-e62e-12996f7621bd"
      },
      "outputs": [
        {
          "output_type": "stream",
          "name": "stdout",
          "text": [
            "[110, 120, 130, 140, 150, 160, 170, 180, 190]\n"
          ]
        }
      ],
      "source": [
        "lista2 =[lista2[indice]*10 for indice in range(9)]\n",
        "print(lista2)"
      ]
    },
    {
      "cell_type": "markdown",
      "source": [
        "6. Mettere in un'unica lista tutti i valori presenti nelle liste precedentemente create."
      ],
      "metadata": {
        "id": "u72WrlK0adOQ"
      }
    },
    {
      "cell_type": "code",
      "execution_count": null,
      "metadata": {
        "colab": {
          "base_uri": "https://localhost:8080/"
        },
        "id": "tsTYJ2BVZ2ev",
        "outputId": "3809cbaa-7246-4d7d-8e6d-d99e3cc96d20"
      },
      "outputs": [
        {
          "output_type": "stream",
          "name": "stdout",
          "text": [
            "[10, 9, 8, 30, 27, 28, 15, 22, 16, 23, 18, 12, 16, 1, 8, 12, 15, 25, 6, 23, 17, 24, 30, 16, 23, 26, 8, 9, 20, 22, 3, 7, 20, 15, 24, 0, 28, 20, 16, 16, 0, 19, 5, 3, 10, 20, 1, 1, 14, 15, 7, 4, 24, 25, 12, 1, 29, 10, 9, 24, 20, 13, 25, 7, 5, 17, 10, 5, 2, 25, 29, 9, 21, 22, 22, 30, 1, 13, 7, 13, 16, 1, 21, 26, 17, 8, 10, 28, 25, 29, 9, 9, 7, 15, 6, 15, 26, 10, 13, 19, 27, 23, 1, 25, 23, 17, 23, 7, 19, 5, 3, 1, 1, 7, 25, 1, 29, 13, 25, 7, 5, 17, 5, 25, 29, 1, 13, 7, 13, 1, 21, 17, 25, 29, 9, 7, 15, 13, 19]\n"
          ]
        }
      ],
      "source": [
        "listaunica = []\n",
        "listaunica.extend(lista1)\n",
        "listaunica.extend(listadispari)\n",
        "listaunica.extend(lista2)\n",
        "print(listaunica)"
      ]
    }
  ]
}